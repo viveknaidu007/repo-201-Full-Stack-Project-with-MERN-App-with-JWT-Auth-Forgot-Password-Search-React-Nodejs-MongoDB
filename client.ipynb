{
 "cells": [
  {
   "cell_type": "markdown",
   "metadata": {},
   "source": [
    "# Frontend"
   ]
  },
  {
   "cell_type": "markdown",
   "metadata": {},
   "source": [
    "# Login , Register, Forgot Password, Edit user details UI"
   ]
  }
 ],
 "metadata": {
  "language_info": {
   "name": "python"
  }
 },
 "nbformat": 4,
 "nbformat_minor": 2
}
